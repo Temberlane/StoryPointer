{
 "cells": [
  {
   "cell_type": "markdown",
   "metadata": {},
   "source": [
    "## The imports for this Jupyter notebook and context\n",
    "pandas for DataFrames, data loading and wrangling\n",
    "numpy for math utilities\n",
    "scikit-learn for training a regressor with KFold cross-validation\n",
    "sentence-transformers for the text to vector embeddings to become input features for scikit-learn\n",
    "matplotlib for plotting distributions"
   ]
  },
  {
   "cell_type": "code",
   "execution_count": 1,
   "metadata": {},
   "outputs": [
    {
     "name": "stdout",
     "output_type": "stream",
     "text": [
      "All imported\n"
     ]
    }
   ],
   "source": [
    "import pandas as pd\n",
    "import numpy as np\n",
    "from sklearn import datasets\n",
    "from sentence_transformers import SentenceTransformer\n",
    "import matplotlib\n",
    "print(\"All imported\")"
   ]
  },
  {
   "cell_type": "markdown",
   "metadata": {},
   "source": [
    "## Workflow for data and procesing\n",
    "\n",
    "pandas (load/clean) → sentence-transformers (embed text) → numpy (store as arrays) → scikit-learn (train/eval models) → matplotlib (visualize results)."
   ]
  },
  {
   "cell_type": "markdown",
   "metadata": {},
   "source": []
  }
 ],
 "metadata": {
  "kernelspec": {
   "display_name": "StoryPointer",
   "language": "python",
   "name": "python3"
  },
  "language_info": {
   "codemirror_mode": {
    "name": "ipython",
    "version": 3
   },
   "file_extension": ".py",
   "mimetype": "text/x-python",
   "name": "python",
   "nbconvert_exporter": "python",
   "pygments_lexer": "ipython3",
   "version": "3.11.9"
  }
 },
 "nbformat": 4,
 "nbformat_minor": 2
}
